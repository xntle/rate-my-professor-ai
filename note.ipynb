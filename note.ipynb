{
 "cells": [
  {
   "cell_type": "code",
   "execution_count": 6,
   "metadata": {},
   "outputs": [
    {
     "name": "stderr",
     "output_type": "stream",
     "text": [
      "/Users/anle/miniconda3/lib/python3.12/site-packages/pinecone/data/index.py:1: TqdmWarning: IProgress not found. Please update jupyter and ipywidgets. See https://ipywidgets.readthedocs.io/en/stable/user_install.html\n",
      "  from tqdm.autonotebook import tqdm\n"
     ]
    }
   ],
   "source": [
    "from dotenv import load_dotenv\n",
    "load_dotenv()\n",
    "import os\n",
    "import openai\n",
    "from pinecone import Pinecone, ServerlessSpec\n",
    "\n"
   ]
  },
  {
   "cell_type": "code",
   "execution_count": 9,
   "metadata": {},
   "outputs": [],
   "source": [
    "pc = Pinecone(api_key=os.getenv(\"PINECONE_API_KEY\"))\n",
    "pc.create_index(\n",
    "    name=\"rag\", dimension=1536, metric=\"cosine\", \n",
    "    spec=ServerlessSpec(cloud=\"aws\", region=\"us-east-1\")\n",
    ")\n",
    "\n"
   ]
  },
  {
   "cell_type": "code",
   "execution_count": 11,
   "metadata": {},
   "outputs": [
    {
     "data": {
      "text/plain": [
       "[{'professor': 'Dr. Emily Stone',\n",
       "  'subject': 'Calculus',\n",
       "  'stars': 4,\n",
       "  'review': 'Dr. Stone explains concepts clearly, but her exams are tough. Study hard!'},\n",
       " {'professor': 'Professor Michael Lee',\n",
       "  'subject': 'History of Art',\n",
       "  'stars': 5,\n",
       "  'review': 'An amazing professor with a deep passion for art history. His lectures are engaging!'},\n",
       " {'professor': 'Dr. Sarah Johnson',\n",
       "  'subject': 'Biology',\n",
       "  'stars': 3,\n",
       "  'review': 'Lectures are informative, but she tends to speak very quickly.'},\n",
       " {'professor': 'Professor Robert Davis',\n",
       "  'subject': 'English Literature',\n",
       "  'stars': 5,\n",
       "  'review': \"One of the best professors I've ever had. His insights into literature are profound.\"},\n",
       " {'professor': 'Dr. Jennifer Martinez',\n",
       "  'subject': 'Chemistry',\n",
       "  'stars': 2,\n",
       "  'review': 'Difficult to follow in lectures, but her office hours are helpful.'},\n",
       " {'professor': 'Professor David Chen',\n",
       "  'subject': 'Computer Science',\n",
       "  'stars': 4,\n",
       "  'review': 'Great professor, but the assignments are very challenging. Be prepared to code a lot.'},\n",
       " {'professor': 'Dr. Laura Thompson',\n",
       "  'subject': 'Psychology',\n",
       "  'stars': 4,\n",
       "  'review': 'Interesting lectures, but grading is a bit harsh. Participate in discussions to get better grades.'},\n",
       " {'professor': 'Professor Mark Wilson',\n",
       "  'subject': 'Physics',\n",
       "  'stars': 3,\n",
       "  'review': 'Concepts are explained well, but the labs are disorganized.'},\n",
       " {'professor': 'Dr. Nancy Taylor',\n",
       "  'subject': 'Sociology',\n",
       "  'stars': 5,\n",
       "  'review': 'Dr. Taylor is incredible. She really cares about her students and the subject matter.'},\n",
       " {'professor': 'Professor James Clark',\n",
       "  'subject': 'Political Science',\n",
       "  'stars': 2,\n",
       "  'review': \"Lectures can be dry, and it's easy to fall behind if you're not paying attention.\"},\n",
       " {'professor': 'Dr. Karen White',\n",
       "  'subject': 'Economics',\n",
       "  'stars': 4,\n",
       "  'review': 'A very knowledgeable professor, but her exams are quite difficult.'},\n",
       " {'professor': 'Professor Alan Moore',\n",
       "  'subject': 'Philosophy',\n",
       "  'stars': 5,\n",
       "  'review': 'His classes make you think deeply. Highly recommend if you enjoy philosophical discussions.'},\n",
       " {'professor': 'Dr. Lisa Harris',\n",
       "  'subject': 'Statistics',\n",
       "  'stars': 3,\n",
       "  'review': 'Lectures are a bit dry, but the content is solid. Study the examples closely.'},\n",
       " {'professor': 'Professor Kevin Brown',\n",
       "  'subject': 'Environmental Science',\n",
       "  'stars': 4,\n",
       "  'review': 'Engaging lectures and field trips, but sometimes the workload feels overwhelming.'},\n",
       " {'professor': 'Dr. William King',\n",
       "  'subject': 'Music Theory',\n",
       "  'stars': 5,\n",
       "  'review': 'Dr. King is passionate about music and it shows. His classes are a joy.'},\n",
       " {'professor': 'Professor Susan Adams',\n",
       "  'subject': 'Anthropology',\n",
       "  'stars': 4,\n",
       "  'review': 'Very knowledgeable and approachable. Her lectures are always interesting.'},\n",
       " {'professor': 'Dr. Charles Young',\n",
       "  'subject': 'Mathematics',\n",
       "  'stars': 3,\n",
       "  'review': 'Solid teaching but sometimes goes too fast. Take good notes.'},\n",
       " {'professor': 'Professor Patricia Green',\n",
       "  'subject': 'Geography',\n",
       "  'stars': 5,\n",
       "  'review': 'Incredibly engaging and enthusiastic. Makes learning about geography exciting.'},\n",
       " {'professor': 'Dr. Richard Evans',\n",
       "  'subject': 'Business Administration',\n",
       "  'stars': 3,\n",
       "  'review': 'Good content, but the lectures can be a bit monotonous.'},\n",
       " {'professor': 'Professor Angela Scott',\n",
       "  'subject': 'Drama',\n",
       "  'stars': 5,\n",
       "  'review': \"Her passion for drama is infectious. You'll love every moment in her class.\"}]"
      ]
     },
     "execution_count": 11,
     "metadata": {},
     "output_type": "execute_result"
    }
   ],
   "source": [
    "import json\n",
    "data=json.load(open(\"reviews.json\"))\n",
    "data['reviews']"
   ]
  }
 ],
 "metadata": {
  "kernelspec": {
   "display_name": "Python 3",
   "language": "python",
   "name": "python3"
  },
  "language_info": {
   "codemirror_mode": {
    "name": "ipython",
    "version": 3
   },
   "file_extension": ".py",
   "mimetype": "text/x-python",
   "name": "python",
   "nbconvert_exporter": "python",
   "pygments_lexer": "ipython3",
   "version": "3.12.2"
  }
 },
 "nbformat": 4,
 "nbformat_minor": 2
}
